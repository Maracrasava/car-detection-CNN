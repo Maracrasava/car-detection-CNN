{
  "nbformat": 4,
  "nbformat_minor": 0,
  "metadata": {
    "colab": {
      "name": "Autonomous_driving.ipynb",
      "provenance": []
    },
    "kernelspec": {
      "name": "python3",
      "display_name": "Python 3"
    }
  },
  "cells": [
    {
      "cell_type": "code",
      "metadata": {
        "id": "93uklhs2MA8V",
        "colab_type": "code",
        "colab": {
          "base_uri": "https://localhost:8080/",
          "height": 102
        },
        "outputId": "1f9fd0dc-7180-45c4-e6cd-6ea059cc879f"
      },
      "source": [
        "!git clone https://github.com/allanzelener/yad2k.git"
      ],
      "execution_count": 2,
      "outputs": [
        {
          "output_type": "stream",
          "text": [
            "Cloning into 'yad2k'...\n",
            "remote: Enumerating objects: 243, done.\u001b[K\n",
            "remote: Total 243 (delta 0), reused 0 (delta 0), pack-reused 243\u001b[K\n",
            "Receiving objects: 100% (243/243), 2.35 MiB | 4.43 MiB/s, done.\n",
            "Resolving deltas: 100% (106/106), done.\n"
          ],
          "name": "stdout"
        }
      ]
    },
    {
      "cell_type": "code",
      "metadata": {
        "id": "Mfsv8-A2MIsj",
        "colab_type": "code",
        "colab": {}
      },
      "source": [
        "import os\n",
        "import tensorflow as tf\n",
        "import numpy\n",
        "import pandas\n",
        "import matplotlib.pyplot as plt\n",
        "from matplotlib.pyplot import imshow\n",
        "from keras import backend as K\n",
        "from keras.layers import Input, Lambda, Conv2D\n",
        "from keras.models import load_model, Model\n",
        "\n",
        "import argparse#\n",
        "import PIL#\n",
        "import scipy.io#\n",
        "import scipy.misc\n",
        "from yad2k.yad2k.models.keras_yolo import yolo_head, yolo_boxes_to_corners, preprocess_true_boxes, yolo_loss, yolo_body"
      ],
      "execution_count": 10,
      "outputs": []
    },
    {
      "cell_type": "code",
      "metadata": {
        "id": "ZarFT8fVMjZL",
        "colab_type": "code",
        "colab": {}
      },
      "source": [
        "# Input shape are images of size (b, 608, 608, 3)\n",
        "# Output shape should look (m, 19, 19, 5, 85) 85: (pc,bx,by,bh,bw,c1,...,c80) \n",
        "# For each grid in 19x19 midpoint of an object and anchor box is assigned\n",
        "# Then use Non-Max surpression to reduce output to smaller # of detected objects\n",
        "  # Get rid of boxes with a low probability\n",
        "  # Choose only one box when several boxes overlap with each other and detect the same object.\n"
      ],
      "execution_count": 9,
      "outputs": []
    },
    {
      "cell_type": "code",
      "metadata": {
        "id": "Dr7Iz8xyMj6d",
        "colab_type": "code",
        "colab": {}
      },
      "source": [
        "      # Filtering by thresholding over the class scores\n",
        "def yolo_filter_boxes(box_object_presence, boxes, box_class_probs, threshold = .6):\n",
        "  #box_object_presence, -- tensor of shape (19, 19, 5, 1)\n",
        "  #boxes -- tensor of shape (19, 19, 5, 4)\n",
        "  #box_class_probs -- tensor of shape (19, 19, 5, 80) contains class probabilities\n",
        "  # for each of the 80 classes for each of the 5 boxes per cell.\n",
        "\n",
        "  # Step 1: Compute box scores(probabilities)\n",
        "    box_scores = box_object_presence * box_class_probs #(19*19, 5, 80)\n",
        "    \n",
        "    # Step 2: Find the index of the class with the maximum box score, the corresponding box score\n",
        "    box_classes =  K.argmax(box_scores,axis = -1)\n",
        "    box_class_scores = K.max(box_scores, axis = -1)\n",
        "    \n",
        "    # Step 3: Create a filtering mask based on \"box_class_scores\" by using \"threshold\". The mask should have the\n",
        "    # same dimension as box_class_scores, and be True for the boxes you want to keep (with probability >= threshold)\n",
        "    filtering_mask = box_class_scores >= threshold\n",
        "    \n",
        "    # Step 4: Apply the mask to scores, boxes and classes to remove useless boxes\n",
        "    scores = tf.boolean_mask(box_class_scores, filtering_mask, name = 'boolean_mask')  # Keeping a score of boxes\n",
        "    boxes = tf.boolean_mask(boxes, filtering_mask,  name = 'boolean_mask')             # Keeping only appropriate boxes\n",
        "    classes = tf.boolean_mask(box_classes, filtering_mask, name = 'boolean_mask')      # Keeps index of the class\n",
        "\n",
        "    return scores, boxes, classes"
      ],
      "execution_count": 7,
      "outputs": []
    },
    {
      "cell_type": "code",
      "metadata": {
        "id": "eh-dltkIft5f",
        "colab_type": "code",
        "colab": {}
      },
      "source": [
        "        # Implement Intersection over Union (measuring accuracy)\n",
        "def iou(box1, box2):\n",
        "\n",
        "    # (x1, y1) upper left, (x2, y2) lower right corners of box\n",
        "    (box1_x1, box1_y1, box1_x2, box1_y2) = box1\n",
        "    (box2_x1, box2_y1, box2_x2, box2_y2) = box2\n",
        "    \n",
        "    # Calculate the (yi1, xi1, yi2, xi2) coordinates of the intersection of box1 and box2.\n",
        "    xi1 = np.max([box1[0], box2[0]]) #x-coordinate is closer to the right\n",
        "    yi1 = np.max([box1[1], box2[1]]) #y-coordinate that is closer to the bottom\n",
        "    xi2 = np.min([box1[2], box2[2]]) #x-coordinate is closer to the left\n",
        "    yi2 = np.min([box1[3], box2[3]]) #y-coordinate that is closer to the top\n",
        "    inter_area=max(xi2-xi1,0)*max(yi2-yi1,0)  # Area = width * height\n",
        "\n",
        "    #  Union(A,B) = A + B - Inter(A,B)\n",
        "    box1_area = (box1[3] - box1[1]) * (box1[2] - box1[0])\n",
        "    box2_area = (box2[3] - box2[1]) * (box2[2] - box2[0])\n",
        "    union_area = box1_area + box2_area - inter_area\n",
        "    \n",
        "    # compute the IoU\n",
        "    iou = inter_area / union_area\n",
        "\n",
        "    return iou"
      ],
      "execution_count": 8,
      "outputs": []
    },
    {
      "cell_type": "code",
      "metadata": {
        "id": "jslqc4-4oZjJ",
        "colab_type": "code",
        "colab": {}
      },
      "source": [
        "      # Implementing Non-Max\n",
        "         # Select the box that has the highest score.\n",
        "         # Compute the overlap of this box with all other boxes, and remove boxes that overlap significantly (iou >= iou_threshold).\n",
        "         #Go back to step 1 and iterate until there are no more boxes with a lower score than the currently selected box.\n",
        "def yolo_non_max_suppression(scores, boxes, classes, max_boxes = 10, iou_threshold = 0.5):\n",
        "    max_boxes_tensor = K.variable(max_boxes, dtype='int32')     # tensor to be used in tf.image.non_max_suppression()\n",
        "    K.get_session().run(tf.variables_initializer([max_boxes_tensor])) # initialize variable max_boxes_tensor\n",
        "\n",
        "    nms_indices = tf.image.non_max_suppression(boxes, scores, max_boxes_tensor , iou_threshold = 0.5)\n",
        "\n",
        "    scores = K.gather(scores,nms_indices)\n",
        "    boxes = K.gather(boxes,nms_indices)\n",
        "    classes = K.gather(classes,nms_indices)\n",
        "\n",
        "\n",
        "    return scores, boxes, classes"
      ],
      "execution_count": 11,
      "outputs": []
    },
    {
      "cell_type": "code",
      "metadata": {
        "id": "S2vscvR6EEWj",
        "colab_type": "code",
        "colab": {}
      },
      "source": [
        ""
      ],
      "execution_count": null,
      "outputs": []
    }
  ]
}