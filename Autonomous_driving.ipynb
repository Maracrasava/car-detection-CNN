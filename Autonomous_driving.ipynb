{
  "nbformat": 4,
  "nbformat_minor": 0,
  "metadata": {
    "colab": {
      "name": "Autonomous_driving.ipynb",
      "provenance": []
    },
    "kernelspec": {
      "name": "python3",
      "display_name": "Python 3"
    }
  },
  "cells": [
    {
      "cell_type": "code",
      "metadata": {
        "id": "93uklhs2MA8V",
        "colab_type": "code",
        "colab": {
          "base_uri": "https://localhost:8080/",
          "height": 102
        },
        "outputId": "1f9fd0dc-7180-45c4-e6cd-6ea059cc879f"
      },
      "source": [
        "!git clone https://github.com/allanzelener/yad2k.git"
      ],
      "execution_count": 2,
      "outputs": [
        {
          "output_type": "stream",
          "text": [
            "Cloning into 'yad2k'...\n",
            "remote: Enumerating objects: 243, done.\u001b[K\n",
            "remote: Total 243 (delta 0), reused 0 (delta 0), pack-reused 243\u001b[K\n",
            "Receiving objects: 100% (243/243), 2.35 MiB | 4.43 MiB/s, done.\n",
            "Resolving deltas: 100% (106/106), done.\n"
          ],
          "name": "stdout"
        }
      ]
    },
    {
      "cell_type": "code",
      "metadata": {
        "id": "Mfsv8-A2MIsj",
        "colab_type": "code",
        "colab": {}
      },
      "source": [
        "import os\n",
        "import tensorflow as tf\n",
        "import numpy\n",
        "import pandas\n",
        "import matplotlib.pyplot as plt\n",
        "from matplotlib.pyplot import imshow\n",
        "from keras import backend as K\n",
        "from keras.layers import Input, Lambda, Conv2D\n",
        "from keras.models import load_model, Model\n",
        "\n",
        "import argparse#\n",
        "import PIL#\n",
        "import scipy.io#\n",
        "import scipy.misc\n",
        "from yad2k.yad2k.models.keras_yolo import yolo_head, yolo_boxes_to_corners, preprocess_true_boxes, yolo_loss, yolo_body"
      ],
      "execution_count": 5,
      "outputs": []
    },
    {
      "cell_type": "code",
      "metadata": {
        "id": "ZarFT8fVMjZL",
        "colab_type": "code",
        "colab": {}
      },
      "source": [
        "# Input shape are images of size (b, 608, 608, 3)\n",
        "# Output shape should look (m, 19, 19, 5, 85) 85: (pc,bx,by,bh,bw,c1,...,c80) \n",
        "# For each grid in 19x19 midpoint of an object and anchor box is assigned\n",
        "# Then use Non-Max surpression to reduce output to smaller # of detected objects\n",
        "  # Get rid of boxes with a low probability\n",
        "  # Choose only one box when several boxes overlap with each other and detect the same object.\n"
      ],
      "execution_count": null,
      "outputs": []
    },
    {
      "cell_type": "code",
      "metadata": {
        "id": "Dr7Iz8xyMj6d",
        "colab_type": "code",
        "colab": {}
      },
      "source": [
        ""
      ],
      "execution_count": null,
      "outputs": []
    }
  ]
}